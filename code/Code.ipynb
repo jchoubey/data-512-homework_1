{
 "cells": [
  {
   "cell_type": "code",
   "execution_count": null,
   "id": "e60e09d7",
   "metadata": {},
   "outputs": [],
   "source": []
  },
  {
   "cell_type": "code",
   "execution_count": 1,
   "id": "832ebaa0",
   "metadata": {},
   "outputs": [],
   "source": [
    "# These are standard python modules\n",
    "import json, time, urllib.parse\n",
    "\n",
    "# The 'requests' module is not a standard Python module. You will need to install this with pip/pip3 if you do not already have it\n",
    "import requests\n",
    "import pandas as pd\n",
    "import os\n",
    "\n",
    "import datetime as dt\n",
    "import matplotlib.pyplot as plt\n",
    "\n",
    "article = pd.read_csv('dinosaur.csv')"
   ]
  },
  {
   "cell_type": "code",
   "execution_count": 2,
   "id": "90ded4f9",
   "metadata": {},
   "outputs": [],
   "source": [
    "# The REST API 'pageviews' URL - this is the common URL/endpoint for all 'pageviews' API requests\n",
    "API_REQUEST_PAGEVIEWS_ENDPOINT = 'https://wikimedia.org/api/rest_v1/metrics/pageviews/'\n",
    "\n",
    "# This is a parameterized string that specifies what kind of pageviews request we are going to make\n",
    "# In this case it will be a 'per-article' based request. The string is a format string so that we can\n",
    "# replace each parameter with an appropriate value before making the request\n",
    "API_REQUEST_PER_ARTICLE_PARAMS = 'per-article/{project}/{access}/{agent}/{article}/{granularity}/{start}/{end}'\n",
    "\n",
    "# The Pageviews API asks that we not exceed 100 requests per second, we add a small delay to each request\n",
    "API_LATENCY_ASSUMED = 0.002       # Assuming roughly 2ms latency on the API and network\n",
    "API_THROTTLE_WAIT = (1.0/100.0)-API_LATENCY_ASSUMED\n",
    "\n",
    "# When making a request to the Wikimedia API they ask that you include a \"unique ID\" that will allow them to\n",
    "# contact you if something happens - such as - your code exceeding request limits - or some other error happens\n",
    "REQUEST_HEADERS = {\n",
    "    'User-Agent': 'choubju1@uw.edu, University of Washington, MSDS DATA 512 - AUTUMN 2022',\n",
    "}\n",
    "\n",
    "# This is just a list of English Wikipedia article titles that we can use for example requests\n",
    "ARTICLE_TITLES = list(article['name'])\n",
    "\n",
    "# This template is used to map parameter values into the API_REQUST_PER_ARTICLE_PARAMS portion of an API request. The dictionary has a\n",
    "# field/key for each of the required parameters. In the example, below, we only vary the article name, so the majority of the fields\n",
    "# can stay constant for each request. Of course, these values *could* be changed if necessary.\n",
    "ARTICLE_PAGEVIEWS_PARAMS_TEMPLATE = {\n",
    "    \"project\":     \"en.wikipedia.org\",\n",
    "    \"access\":      \"\",             # this should be changed for the different access types\n",
    "    \"agent\":       \"user\",\n",
    "    \"article\":     \"\",             # this value will be set/changed before each request\n",
    "    \"granularity\": \"monthly\",\n",
    "    \"start\":       \"2015070100\",\n",
    "    \"end\":         \"2022093000\"    \n",
    "}"
   ]
  },
  {
   "cell_type": "code",
   "execution_count": 3,
   "id": "d57a61f2",
   "metadata": {},
   "outputs": [],
   "source": [
    "def request_pageviews_per_article(article_title = None,\n",
    "                                  access=None,\n",
    "                                  endpoint_url = API_REQUEST_PAGEVIEWS_ENDPOINT, \n",
    "                                  endpoint_params = API_REQUEST_PER_ARTICLE_PARAMS, \n",
    "                                  request_template = ARTICLE_PAGEVIEWS_PARAMS_TEMPLATE,\n",
    "                                  headers = REQUEST_HEADERS):\n",
    "    # Make sure we have an article title\n",
    "    if not article_title: return None\n",
    "    \n",
    "    # Titles are supposed to have spaces replaced with \"_\" and be URL encoded\n",
    "    article_title_encoded = urllib.parse.quote(article_title.replace(' ','_'))\n",
    "    request_template['article'] = article_title_encoded\n",
    "    request_template['access'] = access\n",
    "    \n",
    "    # now, create a request URL by combining the endpoint_url with the parameters for the request\n",
    "    request_url = endpoint_url+endpoint_params.format(**request_template)\n",
    "\n",
    "    # make the request\n",
    "    try:\n",
    "        # we'll wait first, to make sure we don't exceed the limit in the situation where an exception\n",
    "        # occurs during the request processing - throttling is always a good practice with a free\n",
    "        # data source like Wikipedia - or other community sources\n",
    "        if API_THROTTLE_WAIT > 0.0:\n",
    "            time.sleep(API_THROTTLE_WAIT)\n",
    "        response = requests.get(request_url, headers=headers)\n",
    "        json_response = response.json()\n",
    "        \n",
    "    except Exception as e:\n",
    "        print(e)\n",
    "        json_response = None\n",
    "    return json_response"
   ]
  },
  {
   "cell_type": "code",
   "execution_count": 4,
   "id": "5b6ecd40",
   "metadata": {},
   "outputs": [],
   "source": [
    "filename = 'dino_monthly_desktop_201507-202209.json'\n",
    "listObj = []\n",
    "for i in ARTICLE_TITLES:\n",
    "    views = request_pageviews_per_article(i,'desktop')\n",
    "    for month in views['items']:\n",
    "        listObj.append(month)\n",
    "    with open(filename, 'w') as json_file:\n",
    "        json.dump(listObj, json_file, \n",
    "                        indent=4,  \n",
    "                        separators=(',',': '))"
   ]
  },
  {
   "cell_type": "code",
   "execution_count": null,
   "id": "920afe83",
   "metadata": {},
   "outputs": [],
   "source": [
    "filename = 'dino_monthly_mobile_201507-202209.json'\n",
    "listObjMobile = []\n",
    "for i in ARTICLE_TITLES:\n",
    "    viewsApp = request_pageviews_per_article(i,\"mobile-app\")\n",
    "    viewsWeb = request_pageviews_per_article(i,\"mobile-web\")\n",
    "    viewsMobile = viewsApp\n",
    "    for month in viewsWeb['items']:\n",
    "        ts = month['timestamp']\n",
    "        vs = month['views']\n",
    "        for m in viewsMobile['items']:\n",
    "            if m['timestamp']==ts:\n",
    "                m['views']+=vs\n",
    "                m['access']='mobile'\n",
    "\n",
    "    for month in viewsMobile['items']:\n",
    "        listObjMobile.append(month)\n",
    "    with open(filename, 'w') as json_file:\n",
    "        json.dump(listObjMobile, json_file, \n",
    "                        indent=4,  \n",
    "                        separators=(',',': '))"
   ]
  },
  {
   "cell_type": "code",
   "execution_count": null,
   "id": "89a95fa4",
   "metadata": {},
   "outputs": [],
   "source": [
    "filename = 'all_access_data.json'\n",
    "listObjCumulative = []\n",
    "for i in ARTICLE_TITLES:\n",
    "    viewsCumulative = request_pageviews_per_article(i,\"all-access\")\n",
    "    for month in viewsCumulative['items']:\n",
    "        listObjCumulative.append(month)\n",
    "    with open(filename, 'w') as json_file:\n",
    "        json.dump(listObjCumulative, json_file, \n",
    "                        indent=4,  \n",
    "                        separators=(',',': '))"
   ]
  },
  {
   "cell_type": "code",
   "execution_count": null,
   "id": "93fccc8a",
   "metadata": {},
   "outputs": [],
   "source": []
  },
  {
   "cell_type": "code",
   "execution_count": null,
   "id": "6eeb2bd3",
   "metadata": {},
   "outputs": [],
   "source": []
  },
  {
   "cell_type": "code",
   "execution_count": null,
   "id": "92920355",
   "metadata": {},
   "outputs": [],
   "source": []
  },
  {
   "cell_type": "code",
   "execution_count": null,
   "id": "ec5da20d",
   "metadata": {},
   "outputs": [],
   "source": []
  }
 ],
 "metadata": {
  "kernelspec": {
   "display_name": "Python 3",
   "language": "python",
   "name": "python3"
  },
  "language_info": {
   "codemirror_mode": {
    "name": "ipython",
    "version": 3
   },
   "file_extension": ".py",
   "mimetype": "text/x-python",
   "name": "python",
   "nbconvert_exporter": "python",
   "pygments_lexer": "ipython3",
   "version": "3.8.8"
  }
 },
 "nbformat": 4,
 "nbformat_minor": 5
}
